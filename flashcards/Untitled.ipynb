{
 "cells": [
  {
   "cell_type": "code",
   "execution_count": null,
   "id": "8f0953cd",
   "metadata": {},
   "outputs": [],
   "source": [
    "def get_db_connection():\n",
    "    return psycopg2.connect(\n",
    "        dbname=os.getenv('SUPABASE_DB_NAME'),\n",
    "        user=os.getenv('SUPABASE_USER'),\n",
    "        password=os.getenv('SUPABASE_PASSWORD'),\n",
    "        host=os.getenv('SUPABASE_HOST'),\n",
    "        port=os.getenv('SUPABASE_PORT')\n",
    "    )"
   ]
  }
 ],
 "metadata": {
  "kernelspec": {
   "display_name": "Python 3 (ipykernel)",
   "language": "python",
   "name": "python3"
  },
  "language_info": {
   "codemirror_mode": {
    "name": "ipython",
    "version": 3
   },
   "file_extension": ".py",
   "mimetype": "text/x-python",
   "name": "python",
   "nbconvert_exporter": "python",
   "pygments_lexer": "ipython3",
   "version": "3.10.1"
  }
 },
 "nbformat": 4,
 "nbformat_minor": 5
}
